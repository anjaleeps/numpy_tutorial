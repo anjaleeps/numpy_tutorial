{
 "cells": [
  {
   "cell_type": "markdown",
   "id": "f9138b1b",
   "metadata": {},
   "source": [
    "## Import Numpy"
   ]
  },
  {
   "cell_type": "code",
   "execution_count": 1,
   "id": "6159b151",
   "metadata": {},
   "outputs": [],
   "source": [
    "import numpy as np"
   ]
  },
  {
   "cell_type": "markdown",
   "id": "e47a90c4",
   "metadata": {},
   "source": [
    "## Create Numpy array"
   ]
  },
  {
   "cell_type": "markdown",
   "id": "43a1106b",
   "metadata": {},
   "source": [
    "### Create Numpy arrays from Python lists or elements"
   ]
  },
  {
   "cell_type": "markdown",
   "id": "ff3ada23",
   "metadata": {},
   "source": [
    "###### One-dimensional array "
   ]
  },
  {
   "cell_type": "code",
   "execution_count": 2,
   "id": "416e78b1",
   "metadata": {},
   "outputs": [
    {
     "data": {
      "text/plain": [
       "array([1, 2, 3])"
      ]
     },
     "execution_count": 2,
     "metadata": {},
     "output_type": "execute_result"
    }
   ],
   "source": [
    "arr1 = np.array([1, 2, 3])\n",
    "arr1"
   ]
  },
  {
   "cell_type": "code",
   "execution_count": 3,
   "id": "97170998",
   "metadata": {},
   "outputs": [
    {
     "data": {
      "text/plain": [
       "array([4.3, 3.2, 2.1, 9.8])"
      ]
     },
     "execution_count": 3,
     "metadata": {},
     "output_type": "execute_result"
    }
   ],
   "source": [
    "arr2 = np.array((4.3, 3.2, 2.1, 9.8))\n",
    "arr2"
   ]
  },
  {
   "cell_type": "markdown",
   "id": "3c41068b",
   "metadata": {},
   "source": [
    "##### Two-dimensional array"
   ]
  },
  {
   "cell_type": "code",
   "execution_count": 4,
   "id": "36e0f275",
   "metadata": {},
   "outputs": [
    {
     "data": {
      "text/plain": [
       "array([[ 9, 21, 53],\n",
       "       [45, 12, 43],\n",
       "       [54, 21, 11]])"
      ]
     },
     "execution_count": 4,
     "metadata": {},
     "output_type": "execute_result"
    }
   ],
   "source": [
    "arr = np.array([[9, 21, 53],[45, 12, 43], [54, 21, 11]])\n",
    "arr"
   ]
  },
  {
   "cell_type": "markdown",
   "id": "833119d5",
   "metadata": {},
   "source": [
    "##### Three-dimensional array"
   ]
  },
  {
   "cell_type": "code",
   "execution_count": 5,
   "id": "0d18440e",
   "metadata": {},
   "outputs": [
    {
     "data": {
      "text/plain": [
       "array([[[ 1,  2],\n",
       "        [ 7,  8]],\n",
       "\n",
       "       [[ 9, 10],\n",
       "        [11, 12]]])"
      ]
     },
     "execution_count": 5,
     "metadata": {},
     "output_type": "execute_result"
    }
   ],
   "source": [
    "arr = np.array((((1, 2), (7, 8)), ((9, 10), (11,12))))\n",
    "arr"
   ]
  },
  {
   "cell_type": "markdown",
   "id": "9ef43807",
   "metadata": {},
   "source": [
    "##### Derived data types"
   ]
  },
  {
   "cell_type": "code",
   "execution_count": 6,
   "id": "87bb40f1",
   "metadata": {},
   "outputs": [
    {
     "name": "stdout",
     "output_type": "stream",
     "text": [
      "int32\n",
      "float64\n"
     ]
    }
   ],
   "source": [
    "print(arr1.dtype)\n",
    "print(arr2.dtype)"
   ]
  },
  {
   "cell_type": "markdown",
   "id": "8f0b80b5",
   "metadata": {},
   "source": [
    "##### Explicitly pass the data type"
   ]
  },
  {
   "cell_type": "code",
   "execution_count": 7,
   "id": "cd9f6d91",
   "metadata": {},
   "outputs": [
    {
     "data": {
      "text/plain": [
       "array([12., 43., 15.])"
      ]
     },
     "execution_count": 7,
     "metadata": {},
     "output_type": "execute_result"
    }
   ],
   "source": [
    "arr = np.array([12, 43, 15], dtype=np.float64)\n",
    "arr"
   ]
  },
  {
   "cell_type": "markdown",
   "id": "f82ca6cd",
   "metadata": {},
   "source": [
    "### Create arrays of known size"
   ]
  },
  {
   "cell_type": "markdown",
   "id": "727b714c",
   "metadata": {},
   "source": [
    "##### Populate array with zeros"
   ]
  },
  {
   "cell_type": "code",
   "execution_count": 8,
   "id": "0be5e2ba",
   "metadata": {},
   "outputs": [
    {
     "data": {
      "text/plain": [
       "array([[0., 0., 0., 0., 0.],\n",
       "       [0., 0., 0., 0., 0.],\n",
       "       [0., 0., 0., 0., 0.]])"
      ]
     },
     "execution_count": 8,
     "metadata": {},
     "output_type": "execute_result"
    }
   ],
   "source": [
    "arr = np.zeros((3, 5))\n",
    "arr"
   ]
  },
  {
   "cell_type": "markdown",
   "id": "ab5a67bc",
   "metadata": {},
   "source": [
    "##### Populate array with ones"
   ]
  },
  {
   "cell_type": "code",
   "execution_count": 9,
   "id": "f379ea29",
   "metadata": {},
   "outputs": [
    {
     "data": {
      "text/plain": [
       "array([1., 1., 1., 1., 1., 1.])"
      ]
     },
     "execution_count": 9,
     "metadata": {},
     "output_type": "execute_result"
    }
   ],
   "source": [
    "arr = np.ones((6))\n",
    "arr"
   ]
  },
  {
   "cell_type": "markdown",
   "id": "0f673a82",
   "metadata": {},
   "source": [
    "##### Populate array with random numbers"
   ]
  },
  {
   "cell_type": "code",
   "execution_count": 10,
   "id": "290bbf7f",
   "metadata": {},
   "outputs": [
    {
     "data": {
      "text/plain": [
       "array([[[0., 0.],\n",
       "        [0., 0.],\n",
       "        [0., 0.]],\n",
       "\n",
       "       [[0., 0.],\n",
       "        [0., 0.],\n",
       "        [0., 0.]]])"
      ]
     },
     "execution_count": 10,
     "metadata": {},
     "output_type": "execute_result"
    }
   ],
   "source": [
    "arr = np.empty((2, 3, 2))\n",
    "arr"
   ]
  },
  {
   "cell_type": "markdown",
   "id": "54f032d2",
   "metadata": {},
   "source": [
    "##### Explicitly pass the data type"
   ]
  },
  {
   "cell_type": "code",
   "execution_count": 11,
   "id": "c69ce136",
   "metadata": {},
   "outputs": [
    {
     "data": {
      "text/plain": [
       "array([[0, 0]])"
      ]
     },
     "execution_count": 11,
     "metadata": {},
     "output_type": "execute_result"
    }
   ],
   "source": [
    "arr = np.zeros((1, 2), dtype=np.int32)\n",
    "arr"
   ]
  },
  {
   "cell_type": "markdown",
   "id": "1dcc3994",
   "metadata": {},
   "source": [
    "### Create array with sequence of numbers"
   ]
  },
  {
   "cell_type": "code",
   "execution_count": 12,
   "id": "be9603ff",
   "metadata": {},
   "outputs": [
    {
     "data": {
      "text/plain": [
       "array([0, 1, 2, 3, 4])"
      ]
     },
     "execution_count": 12,
     "metadata": {},
     "output_type": "execute_result"
    }
   ],
   "source": [
    "arr = np.arange(5)\n",
    "arr"
   ]
  },
  {
   "cell_type": "code",
   "execution_count": 13,
   "id": "c6c5cad5",
   "metadata": {},
   "outputs": [
    {
     "data": {
      "text/plain": [
       "array([10, 11, 12, 13, 14, 15])"
      ]
     },
     "execution_count": 13,
     "metadata": {},
     "output_type": "execute_result"
    }
   ],
   "source": [
    "arr = np.arange(10, 16)\n",
    "arr"
   ]
  },
  {
   "cell_type": "markdown",
   "id": "326e5dc0",
   "metadata": {},
   "source": [
    "##### Populate array with evenly spaced numbers"
   ]
  },
  {
   "cell_type": "code",
   "execution_count": 14,
   "id": "0d051eb0",
   "metadata": {},
   "outputs": [
    {
     "data": {
      "text/plain": [
       "array([ 1,  4,  7, 10, 13, 16, 19, 22])"
      ]
     },
     "execution_count": 14,
     "metadata": {},
     "output_type": "execute_result"
    }
   ],
   "source": [
    "arr = np.arange(1, 25, 3)\n",
    "arr"
   ]
  },
  {
   "cell_type": "markdown",
   "id": "3337c1ce",
   "metadata": {},
   "source": [
    "##### Get an evenly-spaced array with floating point numbers"
   ]
  },
  {
   "cell_type": "code",
   "execution_count": 15,
   "id": "5917adf4",
   "metadata": {},
   "outputs": [
    {
     "data": {
      "text/plain": [
       "array([10. , 12.5, 15. , 17.5, 20. ])"
      ]
     },
     "execution_count": 15,
     "metadata": {},
     "output_type": "execute_result"
    }
   ],
   "source": [
    "arr = np.linspace(10, 20, 5)\n",
    "arr"
   ]
  },
  {
   "cell_type": "markdown",
   "id": "5f5ee93b",
   "metadata": {},
   "source": [
    "## Basic array attributes"
   ]
  },
  {
   "cell_type": "code",
   "execution_count": 16,
   "id": "adb69015",
   "metadata": {},
   "outputs": [],
   "source": [
    "arr = np.zeros((4, 5))"
   ]
  },
  {
   "cell_type": "markdown",
   "id": "78eea57f",
   "metadata": {},
   "source": [
    "##### Number of dimensions"
   ]
  },
  {
   "cell_type": "code",
   "execution_count": 17,
   "id": "e7e8e782",
   "metadata": {},
   "outputs": [
    {
     "data": {
      "text/plain": [
       "2"
      ]
     },
     "execution_count": 17,
     "metadata": {},
     "output_type": "execute_result"
    }
   ],
   "source": [
    "arr.ndim"
   ]
  },
  {
   "cell_type": "markdown",
   "id": "df7cf339",
   "metadata": {},
   "source": [
    "##### Shape"
   ]
  },
  {
   "cell_type": "code",
   "execution_count": 18,
   "id": "d93a4ffd",
   "metadata": {},
   "outputs": [
    {
     "data": {
      "text/plain": [
       "(4, 5)"
      ]
     },
     "execution_count": 18,
     "metadata": {},
     "output_type": "execute_result"
    }
   ],
   "source": [
    "arr.shape"
   ]
  },
  {
   "cell_type": "markdown",
   "id": "26af5a51",
   "metadata": {},
   "source": [
    "##### Size"
   ]
  },
  {
   "cell_type": "code",
   "execution_count": 19,
   "id": "c80f7ed6",
   "metadata": {},
   "outputs": [
    {
     "data": {
      "text/plain": [
       "20"
      ]
     },
     "execution_count": 19,
     "metadata": {},
     "output_type": "execute_result"
    }
   ],
   "source": [
    "arr.size"
   ]
  },
  {
   "cell_type": "markdown",
   "id": "f226cf72",
   "metadata": {},
   "source": [
    "##### Data type"
   ]
  },
  {
   "cell_type": "code",
   "execution_count": 20,
   "id": "a665dc94",
   "metadata": {},
   "outputs": [
    {
     "data": {
      "text/plain": [
       "dtype('float64')"
      ]
     },
     "execution_count": 20,
     "metadata": {},
     "output_type": "execute_result"
    }
   ],
   "source": [
    "arr.dtype"
   ]
  },
  {
   "cell_type": "markdown",
   "id": "276e7720",
   "metadata": {},
   "source": [
    "##### Item size"
   ]
  },
  {
   "cell_type": "code",
   "execution_count": 21,
   "id": "4df6f936",
   "metadata": {},
   "outputs": [
    {
     "data": {
      "text/plain": [
       "8"
      ]
     },
     "execution_count": 21,
     "metadata": {},
     "output_type": "execute_result"
    }
   ],
   "source": [
    "arr.itemsize"
   ]
  },
  {
   "cell_type": "markdown",
   "id": "f9a73ca2",
   "metadata": {},
   "source": [
    "## Broadcasting"
   ]
  },
  {
   "cell_type": "code",
   "execution_count": 22,
   "id": "b50fe7fc",
   "metadata": {},
   "outputs": [],
   "source": [
    "a = np.array([[1, 2], [3, 4]])\n",
    "b = 5"
   ]
  },
  {
   "cell_type": "code",
   "execution_count": 23,
   "id": "0e3ae43c",
   "metadata": {},
   "outputs": [
    {
     "data": {
      "text/plain": [
       "array([[ 5, 10],\n",
       "       [15, 20]])"
      ]
     },
     "execution_count": 23,
     "metadata": {},
     "output_type": "execute_result"
    }
   ],
   "source": [
    "a*b"
   ]
  },
  {
   "cell_type": "markdown",
   "id": "ba3770c2",
   "metadata": {},
   "source": [
    "## Change shape of an array"
   ]
  },
  {
   "cell_type": "code",
   "execution_count": 24,
   "id": "c4bfc5e1",
   "metadata": {},
   "outputs": [
    {
     "data": {
      "text/plain": [
       "(20,)"
      ]
     },
     "execution_count": 24,
     "metadata": {},
     "output_type": "execute_result"
    }
   ],
   "source": [
    "arr = np.arange(20)\n",
    "arr.shape"
   ]
  },
  {
   "cell_type": "markdown",
   "id": "4472f986",
   "metadata": {},
   "source": [
    "##### Reshape"
   ]
  },
  {
   "cell_type": "code",
   "execution_count": 25,
   "id": "f898a1e3",
   "metadata": {},
   "outputs": [
    {
     "data": {
      "text/plain": [
       "(4, 5)"
      ]
     },
     "execution_count": 25,
     "metadata": {},
     "output_type": "execute_result"
    }
   ],
   "source": [
    "reshaped = arr.reshape((4, 5))\n",
    "reshaped.shape"
   ]
  },
  {
   "cell_type": "code",
   "execution_count": 26,
   "id": "0317e974",
   "metadata": {},
   "outputs": [
    {
     "data": {
      "text/plain": [
       "(5, 4)"
      ]
     },
     "execution_count": 26,
     "metadata": {},
     "output_type": "execute_result"
    }
   ],
   "source": [
    "#Leave one dimension to be automatically calculated\n",
    "reshaped_auto = arr.reshape((5, -1))\n",
    "reshaped_auto.shape"
   ]
  },
  {
   "cell_type": "markdown",
   "id": "2df393a7",
   "metadata": {},
   "source": [
    "##### Flatten & unravel"
   ]
  },
  {
   "cell_type": "code",
   "execution_count": 28,
   "id": "34a0c075",
   "metadata": {},
   "outputs": [
    {
     "name": "stdout",
     "output_type": "stream",
     "text": [
      "(20,)\n",
      "Parent array [[ 0  1  2  3  4]\n",
      " [ 5  6  7  8  9]\n",
      " [10 11 12 13 14]\n",
      " [15 16 17 18 19]]\n",
      "Flattened array [50  1  2  3  4  5  6  7  8  9 10 11 12 13 14 15 16 17 18 19]\n"
     ]
    }
   ],
   "source": [
    "flattened = reshaped.flatten()\n",
    "print(flattened.shape)\n",
    "\n",
    "flattened[0] = 50\n",
    "\n",
    "print(\"Parent array\", reshaped)\n",
    "print(\"Flattened array\", flattened)"
   ]
  },
  {
   "cell_type": "code",
   "execution_count": 30,
   "id": "4da0a115",
   "metadata": {},
   "outputs": [
    {
     "name": "stdout",
     "output_type": "stream",
     "text": [
      "(20,)\n",
      "Parent array [[50  1  2  3  4]\n",
      " [ 5  6  7  8  9]\n",
      " [10 11 12 13 14]\n",
      " [15 16 17 18 19]]\n",
      "Unravelled array [50  1  2  3  4  5  6  7  8  9 10 11 12 13 14 15 16 17 18 19]\n"
     ]
    }
   ],
   "source": [
    "unravelled = reshaped.ravel()\n",
    "print(unravelled.shape)\n",
    "\n",
    "unravelled[0] = 50\n",
    "\n",
    "print(\"Parent array\", reshaped)\n",
    "print(\"Unravelled array\", unravelled)"
   ]
  },
  {
   "cell_type": "markdown",
   "id": "6f70f712",
   "metadata": {},
   "source": [
    "##### Resize"
   ]
  },
  {
   "cell_type": "code",
   "execution_count": 31,
   "id": "a17d5167",
   "metadata": {},
   "outputs": [
    {
     "data": {
      "text/plain": [
       "(2, 10)"
      ]
     },
     "execution_count": 31,
     "metadata": {},
     "output_type": "execute_result"
    }
   ],
   "source": [
    "arr = np.arange(20)\n",
    "arr.resize((2, 10))\n",
    "arr.shape"
   ]
  },
  {
   "cell_type": "markdown",
   "id": "33cce565",
   "metadata": {},
   "source": [
    "## Indexing & slicing"
   ]
  },
  {
   "cell_type": "markdown",
   "id": "59f8d557",
   "metadata": {},
   "source": [
    "##### One-dimensional arrays"
   ]
  },
  {
   "cell_type": "code",
   "execution_count": 32,
   "id": "774a3da8",
   "metadata": {},
   "outputs": [
    {
     "data": {
      "text/plain": [
       "array([ 0,  1,  2,  3,  4,  5,  6,  7,  8,  9, 10, 11, 12, 13, 14])"
      ]
     },
     "execution_count": 32,
     "metadata": {},
     "output_type": "execute_result"
    }
   ],
   "source": [
    "arr = np.arange(15)\n",
    "arr"
   ]
  },
  {
   "cell_type": "code",
   "execution_count": 33,
   "id": "ea98af4f",
   "metadata": {},
   "outputs": [
    {
     "data": {
      "text/plain": [
       "5"
      ]
     },
     "execution_count": 33,
     "metadata": {},
     "output_type": "execute_result"
    }
   ],
   "source": [
    "arr[5]"
   ]
  },
  {
   "cell_type": "code",
   "execution_count": 34,
   "id": "01bba502",
   "metadata": {},
   "outputs": [
    {
     "data": {
      "text/plain": [
       "14"
      ]
     },
     "execution_count": 34,
     "metadata": {},
     "output_type": "execute_result"
    }
   ],
   "source": [
    "arr[-1]"
   ]
  },
  {
   "cell_type": "code",
   "execution_count": 35,
   "id": "07aab6fb",
   "metadata": {},
   "outputs": [
    {
     "data": {
      "text/plain": [
       "100"
      ]
     },
     "execution_count": 35,
     "metadata": {},
     "output_type": "execute_result"
    }
   ],
   "source": [
    "arr[7] = 100\n",
    "arr[7]"
   ]
  },
  {
   "cell_type": "code",
   "execution_count": 36,
   "id": "6854a385",
   "metadata": {},
   "outputs": [
    {
     "data": {
      "text/plain": [
       "array([2, 3, 4, 5, 6])"
      ]
     },
     "execution_count": 36,
     "metadata": {},
     "output_type": "execute_result"
    }
   ],
   "source": [
    "#Slice the elements between indices 2 and 7\n",
    "arr[2:7]"
   ]
  },
  {
   "cell_type": "code",
   "execution_count": 37,
   "id": "ff0f5292",
   "metadata": {},
   "outputs": [
    {
     "data": {
      "text/plain": [
       "array([0, 3, 6, 9])"
      ]
     },
     "execution_count": 37,
     "metadata": {},
     "output_type": "execute_result"
    }
   ],
   "source": [
    "#Choose every 3rd element between the indices 0 and 10\n",
    "arr[:10:3]"
   ]
  },
  {
   "cell_type": "code",
   "execution_count": 38,
   "id": "3da88f19",
   "metadata": {},
   "outputs": [
    {
     "data": {
      "text/plain": [
       "array([ 14,  13,  12,  11,  10,   9,   8, 100,   6,   5,   4,   3,   2,\n",
       "         1,   0])"
      ]
     },
     "execution_count": 38,
     "metadata": {},
     "output_type": "execute_result"
    }
   ],
   "source": [
    "#Reverse the entire array\n",
    "arr[::-1]"
   ]
  },
  {
   "cell_type": "markdown",
   "id": "f2ceff4b",
   "metadata": {},
   "source": [
    "##### Multi-dimensional arrays"
   ]
  },
  {
   "cell_type": "code",
   "execution_count": 39,
   "id": "c104ab17",
   "metadata": {},
   "outputs": [
    {
     "data": {
      "text/plain": [
       "array([[ 0,  1,  2,  3,  4,  5],\n",
       "       [ 6,  7,  8,  9, 10, 11],\n",
       "       [12, 13, 14, 15, 16, 17]])"
      ]
     },
     "execution_count": 39,
     "metadata": {},
     "output_type": "execute_result"
    }
   ],
   "source": [
    "arr = np.arange(18).reshape(3, 6)\n",
    "arr"
   ]
  },
  {
   "cell_type": "code",
   "execution_count": 40,
   "id": "83919c62",
   "metadata": {},
   "outputs": [
    {
     "data": {
      "text/plain": [
       "10"
      ]
     },
     "execution_count": 40,
     "metadata": {},
     "output_type": "execute_result"
    }
   ],
   "source": [
    "arr[1, 4]"
   ]
  },
  {
   "cell_type": "code",
   "execution_count": 41,
   "id": "1c25e0c4",
   "metadata": {},
   "outputs": [
    {
     "data": {
      "text/plain": [
       "16"
      ]
     },
     "execution_count": 41,
     "metadata": {},
     "output_type": "execute_result"
    }
   ],
   "source": [
    "arr[-1, 4]"
   ]
  },
  {
   "cell_type": "code",
   "execution_count": 42,
   "id": "6993353d",
   "metadata": {},
   "outputs": [
    {
     "data": {
      "text/plain": [
       "array([[ 1,  2,  3],\n",
       "       [ 7,  8,  9],\n",
       "       [13, 14, 15]])"
      ]
     },
     "execution_count": 42,
     "metadata": {},
     "output_type": "execute_result"
    }
   ],
   "source": [
    "#Slice columns 2 to 4 of each row of the array\n",
    "arr[:, 1:4]"
   ]
  },
  {
   "cell_type": "code",
   "execution_count": 43,
   "id": "1f7384c1",
   "metadata": {},
   "outputs": [
    {
     "data": {
      "text/plain": [
       "array([ 6,  8, 10])"
      ]
     },
     "execution_count": 43,
     "metadata": {},
     "output_type": "execute_result"
    }
   ],
   "source": [
    "#1st, 3rd, 5th elements of the 2nd row of the array\n",
    "arr[1, 0:6:2]"
   ]
  },
  {
   "cell_type": "code",
   "execution_count": 44,
   "id": "84c1428a",
   "metadata": {},
   "outputs": [
    {
     "data": {
      "text/plain": [
       "array([ 5, 11, 17])"
      ]
     },
     "execution_count": 44,
     "metadata": {},
     "output_type": "execute_result"
    }
   ],
   "source": [
    "#Slice the last column of the array\n",
    "arr[:, -1]"
   ]
  },
  {
   "cell_type": "markdown",
   "id": "1a07b56d",
   "metadata": {},
   "source": [
    "##### Filter elements using special conditions"
   ]
  },
  {
   "cell_type": "code",
   "execution_count": 45,
   "id": "d32b596f",
   "metadata": {},
   "outputs": [
    {
     "data": {
      "text/plain": [
       "array([0, 1, 2, 3, 4])"
      ]
     },
     "execution_count": 45,
     "metadata": {},
     "output_type": "execute_result"
    }
   ],
   "source": [
    "arr[arr < 5]"
   ]
  },
  {
   "cell_type": "code",
   "execution_count": 46,
   "id": "9bdce34b",
   "metadata": {},
   "outputs": [
    {
     "data": {
      "text/plain": [
       "array([ 0,  4,  8, 12, 16])"
      ]
     },
     "execution_count": 46,
     "metadata": {},
     "output_type": "execute_result"
    }
   ],
   "source": [
    "arr[arr % 4 == 0]"
   ]
  },
  {
   "cell_type": "code",
   "execution_count": 47,
   "id": "8afcce1b",
   "metadata": {},
   "outputs": [
    {
     "data": {
      "text/plain": [
       "array([ 4,  5,  6,  7,  8,  9, 10, 11])"
      ]
     },
     "execution_count": 47,
     "metadata": {},
     "output_type": "execute_result"
    }
   ],
   "source": [
    "arr[(arr > 3) & (arr < 12)]"
   ]
  },
  {
   "cell_type": "markdown",
   "id": "bd4cded4",
   "metadata": {},
   "source": [
    "## Basic operations"
   ]
  },
  {
   "cell_type": "code",
   "execution_count": 48,
   "id": "ae170fb9",
   "metadata": {},
   "outputs": [
    {
     "data": {
      "text/plain": [
       "array([[1, 2, 3],\n",
       "       [4, 5, 6]])"
      ]
     },
     "execution_count": 48,
     "metadata": {},
     "output_type": "execute_result"
    }
   ],
   "source": [
    "a = np.arange(1, 7).reshape((2, 3))\n",
    "a"
   ]
  },
  {
   "cell_type": "code",
   "execution_count": 49,
   "id": "422ef7af",
   "metadata": {},
   "outputs": [
    {
     "data": {
      "text/plain": [
       "array([[12, 32, 21],\n",
       "       [99, 34, 43]])"
      ]
     },
     "execution_count": 49,
     "metadata": {},
     "output_type": "execute_result"
    }
   ],
   "source": [
    "b = np.array([[12, 32, 21], [99, 34, 43]])\n",
    "b"
   ]
  },
  {
   "cell_type": "markdown",
   "id": "bc8f067d",
   "metadata": {},
   "source": [
    "##### Multiply by a constant"
   ]
  },
  {
   "cell_type": "code",
   "execution_count": 50,
   "id": "25a80c48",
   "metadata": {},
   "outputs": [
    {
     "data": {
      "text/plain": [
       "array([[ 5, 10, 15],\n",
       "       [20, 25, 30]])"
      ]
     },
     "execution_count": 50,
     "metadata": {},
     "output_type": "execute_result"
    }
   ],
   "source": [
    "a*5"
   ]
  },
  {
   "cell_type": "markdown",
   "id": "11b17e9c",
   "metadata": {},
   "source": [
    "##### Summation"
   ]
  },
  {
   "cell_type": "code",
   "execution_count": 51,
   "id": "e9b3ef8d",
   "metadata": {},
   "outputs": [
    {
     "data": {
      "text/plain": [
       "array([[ 13,  34,  24],\n",
       "       [103,  39,  49]])"
      ]
     },
     "execution_count": 51,
     "metadata": {},
     "output_type": "execute_result"
    }
   ],
   "source": [
    "a + b"
   ]
  },
  {
   "cell_type": "markdown",
   "id": "ebd3ed37",
   "metadata": {},
   "source": [
    "##### Substraction"
   ]
  },
  {
   "cell_type": "code",
   "execution_count": 52,
   "id": "61587043",
   "metadata": {},
   "outputs": [
    {
     "data": {
      "text/plain": [
       "array([[-11, -30, -18],\n",
       "       [-95, -29, -37]])"
      ]
     },
     "execution_count": 52,
     "metadata": {},
     "output_type": "execute_result"
    }
   ],
   "source": [
    "a - b"
   ]
  },
  {
   "cell_type": "markdown",
   "id": "65943cde",
   "metadata": {},
   "source": [
    "##### Power"
   ]
  },
  {
   "cell_type": "code",
   "execution_count": 53,
   "id": "4a8a36e8",
   "metadata": {},
   "outputs": [
    {
     "data": {
      "text/plain": [
       "array([[  1,   8,  27],\n",
       "       [ 64, 125, 216]], dtype=int32)"
      ]
     },
     "execution_count": 53,
     "metadata": {},
     "output_type": "execute_result"
    }
   ],
   "source": [
    "a**3"
   ]
  },
  {
   "cell_type": "markdown",
   "id": "ec6fb91c",
   "metadata": {},
   "source": [
    "##### Element-wise multiplication"
   ]
  },
  {
   "cell_type": "code",
   "execution_count": 54,
   "id": "66150875",
   "metadata": {},
   "outputs": [
    {
     "data": {
      "text/plain": [
       "array([[ 12,  64,  63],\n",
       "       [396, 170, 258]])"
      ]
     },
     "execution_count": 54,
     "metadata": {},
     "output_type": "execute_result"
    }
   ],
   "source": [
    "a * b"
   ]
  },
  {
   "cell_type": "markdown",
   "id": "d4955a68",
   "metadata": {},
   "source": [
    "##### Element-wise division"
   ]
  },
  {
   "cell_type": "code",
   "execution_count": 55,
   "id": "9129480b",
   "metadata": {},
   "outputs": [
    {
     "data": {
      "text/plain": [
       "array([[12.        , 16.        ,  7.        ],\n",
       "       [24.75      ,  6.8       ,  7.16666667]])"
      ]
     },
     "execution_count": 55,
     "metadata": {},
     "output_type": "execute_result"
    }
   ],
   "source": [
    "b / a"
   ]
  },
  {
   "cell_type": "markdown",
   "id": "561ac0a0",
   "metadata": {},
   "source": [
    "##### Sum, min, and max"
   ]
  },
  {
   "cell_type": "code",
   "execution_count": 56,
   "id": "11adab99",
   "metadata": {},
   "outputs": [
    {
     "data": {
      "text/plain": [
       "21"
      ]
     },
     "execution_count": 56,
     "metadata": {},
     "output_type": "execute_result"
    }
   ],
   "source": [
    "a.sum()"
   ]
  },
  {
   "cell_type": "code",
   "execution_count": 57,
   "id": "24588a59",
   "metadata": {},
   "outputs": [
    {
     "data": {
      "text/plain": [
       "12"
      ]
     },
     "execution_count": 57,
     "metadata": {},
     "output_type": "execute_result"
    }
   ],
   "source": [
    "b.min()"
   ]
  },
  {
   "cell_type": "code",
   "execution_count": 58,
   "id": "ac08282c",
   "metadata": {},
   "outputs": [
    {
     "data": {
      "text/plain": [
       "99"
      ]
     },
     "execution_count": 58,
     "metadata": {},
     "output_type": "execute_result"
    }
   ],
   "source": [
    "b.max()"
   ]
  },
  {
   "cell_type": "code",
   "execution_count": 59,
   "id": "95c5100d",
   "metadata": {},
   "outputs": [
    {
     "data": {
      "text/plain": [
       "array([99, 34, 43])"
      ]
     },
     "execution_count": 59,
     "metadata": {},
     "output_type": "execute_result"
    }
   ],
   "source": [
    "#Maximum in each column\n",
    "b.max(axis=0)"
   ]
  },
  {
   "cell_type": "code",
   "execution_count": 60,
   "id": "322ee4e2",
   "metadata": {},
   "outputs": [
    {
     "data": {
      "text/plain": [
       "array([12, 34])"
      ]
     },
     "execution_count": 60,
     "metadata": {},
     "output_type": "execute_result"
    }
   ],
   "source": [
    "#Minimum in each row\n",
    "b.min(axis=1)"
   ]
  },
  {
   "cell_type": "markdown",
   "id": "f13d7587",
   "metadata": {},
   "source": [
    "##### Mean, median, and sort"
   ]
  },
  {
   "cell_type": "code",
   "execution_count": 61,
   "id": "5ecab7c0",
   "metadata": {},
   "outputs": [
    {
     "data": {
      "text/plain": [
       "40.166666666666664"
      ]
     },
     "execution_count": 61,
     "metadata": {},
     "output_type": "execute_result"
    }
   ],
   "source": [
    "np.mean(b)"
   ]
  },
  {
   "cell_type": "code",
   "execution_count": 62,
   "id": "8ca1cde2",
   "metadata": {},
   "outputs": [
    {
     "data": {
      "text/plain": [
       "33.0"
      ]
     },
     "execution_count": 62,
     "metadata": {},
     "output_type": "execute_result"
    }
   ],
   "source": [
    "np.median(b)"
   ]
  },
  {
   "cell_type": "code",
   "execution_count": 63,
   "id": "203fa996",
   "metadata": {},
   "outputs": [
    {
     "data": {
      "text/plain": [
       "array([21., 43.])"
      ]
     },
     "execution_count": 63,
     "metadata": {},
     "output_type": "execute_result"
    }
   ],
   "source": [
    "np.median(b, axis=1)"
   ]
  },
  {
   "cell_type": "code",
   "execution_count": 64,
   "id": "2329d6f8",
   "metadata": {},
   "outputs": [
    {
     "data": {
      "text/plain": [
       "array([[12, 21, 32],\n",
       "       [34, 43, 99]])"
      ]
     },
     "execution_count": 64,
     "metadata": {},
     "output_type": "execute_result"
    }
   ],
   "source": [
    "np.sort(b)"
   ]
  },
  {
   "cell_type": "markdown",
   "id": "81f812ba",
   "metadata": {},
   "source": [
    "## Matrix operations"
   ]
  },
  {
   "cell_type": "code",
   "execution_count": 65,
   "id": "e4a91c7a",
   "metadata": {},
   "outputs": [],
   "source": [
    "a = np.arange(6).reshape((2, 3))\n",
    "b = np.arange(9).reshape((3, 3))"
   ]
  },
  {
   "cell_type": "markdown",
   "id": "4f55de4c",
   "metadata": {},
   "source": [
    "##### Matrix multiplication (dot product)"
   ]
  },
  {
   "cell_type": "code",
   "execution_count": 66,
   "id": "325bfa5c",
   "metadata": {},
   "outputs": [
    {
     "data": {
      "text/plain": [
       "array([[15, 18, 21],\n",
       "       [42, 54, 66]])"
      ]
     },
     "execution_count": 66,
     "metadata": {},
     "output_type": "execute_result"
    }
   ],
   "source": [
    "a @ b"
   ]
  },
  {
   "cell_type": "code",
   "execution_count": 67,
   "id": "45a11c79",
   "metadata": {},
   "outputs": [
    {
     "data": {
      "text/plain": [
       "array([[15, 18, 21],\n",
       "       [42, 54, 66]])"
      ]
     },
     "execution_count": 67,
     "metadata": {},
     "output_type": "execute_result"
    }
   ],
   "source": [
    "a.dot(b)"
   ]
  },
  {
   "cell_type": "markdown",
   "id": "250af9ba",
   "metadata": {},
   "source": [
    "##### Transposing a matrix"
   ]
  },
  {
   "cell_type": "code",
   "execution_count": 68,
   "id": "03cdc191",
   "metadata": {},
   "outputs": [
    {
     "data": {
      "text/plain": [
       "(3, 2)"
      ]
     },
     "execution_count": 68,
     "metadata": {},
     "output_type": "execute_result"
    }
   ],
   "source": [
    "transposed = a.transpose()\n",
    "transposed.shape"
   ]
  },
  {
   "cell_type": "markdown",
   "id": "2369e1b1",
   "metadata": {},
   "source": [
    "##### Get the determinant"
   ]
  },
  {
   "cell_type": "code",
   "execution_count": 69,
   "id": "c3be1e88",
   "metadata": {},
   "outputs": [
    {
     "data": {
      "text/plain": [
       "0.0"
      ]
     },
     "execution_count": 69,
     "metadata": {},
     "output_type": "execute_result"
    }
   ],
   "source": [
    "determinant = np.linalg.det(b)\n",
    "determinant"
   ]
  },
  {
   "cell_type": "markdown",
   "id": "04c0eca9",
   "metadata": {},
   "source": [
    "## Stacking & splitting arrays"
   ]
  },
  {
   "cell_type": "code",
   "execution_count": 70,
   "id": "e447c54c",
   "metadata": {},
   "outputs": [],
   "source": [
    "a = np.linspace(1, 50, 8).reshape(2, 4)\n",
    "b = np.arange(4).reshape(2, 2)\n",
    "c = np.arange(12).reshape(3, 4)"
   ]
  },
  {
   "cell_type": "markdown",
   "id": "5b42cedc",
   "metadata": {},
   "source": [
    "##### Horizontal stack"
   ]
  },
  {
   "cell_type": "code",
   "execution_count": 71,
   "id": "01c6dfaa",
   "metadata": {},
   "outputs": [
    {
     "data": {
      "text/plain": [
       "array([[ 1.,  8., 15., 22.,  0.,  1.],\n",
       "       [29., 36., 43., 50.,  2.,  3.]])"
      ]
     },
     "execution_count": 71,
     "metadata": {},
     "output_type": "execute_result"
    }
   ],
   "source": [
    "np.hstack((a, b))"
   ]
  },
  {
   "cell_type": "markdown",
   "id": "e349733c",
   "metadata": {},
   "source": [
    "##### Vertical stack"
   ]
  },
  {
   "cell_type": "code",
   "execution_count": 72,
   "id": "dc387a0b",
   "metadata": {},
   "outputs": [
    {
     "data": {
      "text/plain": [
       "array([[ 1.,  8., 15., 22.],\n",
       "       [29., 36., 43., 50.],\n",
       "       [ 0.,  1.,  2.,  3.],\n",
       "       [ 4.,  5.,  6.,  7.],\n",
       "       [ 8.,  9., 10., 11.]])"
      ]
     },
     "execution_count": 72,
     "metadata": {},
     "output_type": "execute_result"
    }
   ],
   "source": [
    "np.vstack((a, c))"
   ]
  },
  {
   "cell_type": "markdown",
   "id": "7ad8984e",
   "metadata": {},
   "source": [
    "##### Horizontal split"
   ]
  },
  {
   "cell_type": "code",
   "execution_count": 73,
   "id": "c637e29e",
   "metadata": {},
   "outputs": [
    {
     "name": "stdout",
     "output_type": "stream",
     "text": [
      "[[ 1.  8.]\n",
      " [29. 36.]]\n",
      "[[15. 22.]\n",
      " [43. 50.]]\n"
     ]
    }
   ],
   "source": [
    "#Split into two equal-sized arrays\n",
    "split_a = np.hsplit(a, 2)\n",
    "\n",
    "print(split_a[0])\n",
    "print(split_a[1])"
   ]
  },
  {
   "cell_type": "code",
   "execution_count": 74,
   "id": "37dd354f",
   "metadata": {
    "scrolled": true
   },
   "outputs": [
    {
     "name": "stdout",
     "output_type": "stream",
     "text": [
      "[[ 1.]\n",
      " [29.]]\n",
      "[[ 8. 15.]\n",
      " [36. 43.]]\n",
      "[[22.]\n",
      " [50.]]\n"
     ]
    }
   ],
   "source": [
    "#Split the array after the 1st and 3rd columns\n",
    "split_a = np.hsplit(a, (1, 3))\n",
    "\n",
    "print(split_a[0])\n",
    "print(split_a[1])\n",
    "print(split_a[2])"
   ]
  },
  {
   "cell_type": "markdown",
   "id": "38df7698",
   "metadata": {},
   "source": [
    "##### Vertical split"
   ]
  },
  {
   "cell_type": "code",
   "execution_count": 75,
   "id": "f64b2002",
   "metadata": {},
   "outputs": [
    {
     "name": "stdout",
     "output_type": "stream",
     "text": [
      "[[0 1 2 3]]\n",
      "[[4 5 6 7]]\n",
      "[[ 8  9 10 11]]\n"
     ]
    }
   ],
   "source": [
    "#Split into three equal-sized arrays\n",
    "split_c = np.vsplit(c, 3)\n",
    "\n",
    "print(split_c[0])\n",
    "print(split_c[1])\n",
    "print(split_c[2])"
   ]
  },
  {
   "cell_type": "code",
   "execution_count": 76,
   "id": "c6df1ee8",
   "metadata": {},
   "outputs": [
    {
     "name": "stdout",
     "output_type": "stream",
     "text": [
      "[[0 1 2 3]]\n",
      "[[ 4  5  6  7]\n",
      " [ 8  9 10 11]]\n"
     ]
    }
   ],
   "source": [
    "#Split the array after the 1st row\n",
    "\n",
    "split_c = np.vsplit(c, (1, ))\n",
    "\n",
    "print(split_c[0])\n",
    "print(split_c[1])"
   ]
  },
  {
   "cell_type": "markdown",
   "id": "e93a70e8",
   "metadata": {},
   "source": [
    "## Deep & shallow copies"
   ]
  },
  {
   "cell_type": "code",
   "execution_count": 77,
   "id": "87a5aa38",
   "metadata": {},
   "outputs": [],
   "source": [
    "a = np.arange(10)"
   ]
  },
  {
   "cell_type": "markdown",
   "id": "4f3884ca",
   "metadata": {},
   "source": [
    "##### Shallow copy"
   ]
  },
  {
   "cell_type": "code",
   "execution_count": 78,
   "id": "c57b59da",
   "metadata": {},
   "outputs": [],
   "source": [
    "b = a.view()"
   ]
  },
  {
   "cell_type": "code",
   "execution_count": 79,
   "id": "abd15588",
   "metadata": {},
   "outputs": [
    {
     "data": {
      "text/plain": [
       "False"
      ]
     },
     "execution_count": 79,
     "metadata": {},
     "output_type": "execute_result"
    }
   ],
   "source": [
    "b is a"
   ]
  },
  {
   "cell_type": "code",
   "execution_count": 80,
   "id": "28fa5da5",
   "metadata": {},
   "outputs": [
    {
     "data": {
      "text/plain": [
       "(10,)"
      ]
     },
     "execution_count": 80,
     "metadata": {},
     "output_type": "execute_result"
    }
   ],
   "source": [
    "b.reshape(2, 5)\n",
    "a.shape"
   ]
  },
  {
   "cell_type": "code",
   "execution_count": 81,
   "id": "336d1ed4",
   "metadata": {},
   "outputs": [
    {
     "data": {
      "text/plain": [
       "99"
      ]
     },
     "execution_count": 81,
     "metadata": {},
     "output_type": "execute_result"
    }
   ],
   "source": [
    "b[8] = 99\n",
    "a[8]"
   ]
  },
  {
   "cell_type": "markdown",
   "id": "a481b3be",
   "metadata": {},
   "source": [
    "##### Deep copy"
   ]
  },
  {
   "cell_type": "code",
   "execution_count": 82,
   "id": "24d23700",
   "metadata": {},
   "outputs": [],
   "source": [
    "c = a.copy()"
   ]
  },
  {
   "cell_type": "code",
   "execution_count": 83,
   "id": "92a853d6",
   "metadata": {},
   "outputs": [
    {
     "data": {
      "text/plain": [
       "False"
      ]
     },
     "execution_count": 83,
     "metadata": {},
     "output_type": "execute_result"
    }
   ],
   "source": [
    "c is a"
   ]
  },
  {
   "cell_type": "code",
   "execution_count": 84,
   "id": "e13a65f2",
   "metadata": {},
   "outputs": [
    {
     "data": {
      "text/plain": [
       "(10,)"
      ]
     },
     "execution_count": 84,
     "metadata": {},
     "output_type": "execute_result"
    }
   ],
   "source": [
    "c.reshape(2, 5)\n",
    "a.shape"
   ]
  },
  {
   "cell_type": "code",
   "execution_count": 85,
   "id": "446ed5bc",
   "metadata": {},
   "outputs": [
    {
     "data": {
      "text/plain": [
       "5"
      ]
     },
     "execution_count": 85,
     "metadata": {},
     "output_type": "execute_result"
    }
   ],
   "source": [
    "c[5] = 55\n",
    "a[5]"
   ]
  },
  {
   "cell_type": "markdown",
   "id": "0f40f3ce",
   "metadata": {},
   "source": [
    "## Import & export data"
   ]
  },
  {
   "cell_type": "markdown",
   "id": "3e3f73d5",
   "metadata": {},
   "source": [
    "##### Import data"
   ]
  },
  {
   "cell_type": "code",
   "execution_count": 86,
   "id": "74cad8ca",
   "metadata": {},
   "outputs": [],
   "source": [
    "import pandas as pd"
   ]
  },
  {
   "cell_type": "code",
   "execution_count": 87,
   "id": "16d1d4ac",
   "metadata": {},
   "outputs": [
    {
     "data": {
      "text/html": [
       "<div>\n",
       "<style scoped>\n",
       "    .dataframe tbody tr th:only-of-type {\n",
       "        vertical-align: middle;\n",
       "    }\n",
       "\n",
       "    .dataframe tbody tr th {\n",
       "        vertical-align: top;\n",
       "    }\n",
       "\n",
       "    .dataframe thead th {\n",
       "        text-align: right;\n",
       "    }\n",
       "</style>\n",
       "<table border=\"1\" class=\"dataframe\">\n",
       "  <thead>\n",
       "    <tr style=\"text-align: right;\">\n",
       "      <th></th>\n",
       "      <th>country</th>\n",
       "      <th>beer_servings</th>\n",
       "      <th>spirit_servings</th>\n",
       "      <th>wine_servings</th>\n",
       "      <th>total_litres_of_pure_alcohol</th>\n",
       "      <th>continent</th>\n",
       "    </tr>\n",
       "  </thead>\n",
       "  <tbody>\n",
       "    <tr>\n",
       "      <th>0</th>\n",
       "      <td>Afghanistan</td>\n",
       "      <td>0</td>\n",
       "      <td>0</td>\n",
       "      <td>0</td>\n",
       "      <td>0.0</td>\n",
       "      <td>AS</td>\n",
       "    </tr>\n",
       "    <tr>\n",
       "      <th>1</th>\n",
       "      <td>Albania</td>\n",
       "      <td>89</td>\n",
       "      <td>132</td>\n",
       "      <td>54</td>\n",
       "      <td>4.9</td>\n",
       "      <td>EU</td>\n",
       "    </tr>\n",
       "    <tr>\n",
       "      <th>2</th>\n",
       "      <td>Algeria</td>\n",
       "      <td>25</td>\n",
       "      <td>0</td>\n",
       "      <td>14</td>\n",
       "      <td>0.7</td>\n",
       "      <td>AF</td>\n",
       "    </tr>\n",
       "    <tr>\n",
       "      <th>3</th>\n",
       "      <td>Andorra</td>\n",
       "      <td>245</td>\n",
       "      <td>138</td>\n",
       "      <td>312</td>\n",
       "      <td>12.4</td>\n",
       "      <td>EU</td>\n",
       "    </tr>\n",
       "    <tr>\n",
       "      <th>4</th>\n",
       "      <td>Angola</td>\n",
       "      <td>217</td>\n",
       "      <td>57</td>\n",
       "      <td>45</td>\n",
       "      <td>5.9</td>\n",
       "      <td>AF</td>\n",
       "    </tr>\n",
       "  </tbody>\n",
       "</table>\n",
       "</div>"
      ],
      "text/plain": [
       "       country  beer_servings  spirit_servings  wine_servings  \\\n",
       "0  Afghanistan              0                0              0   \n",
       "1      Albania             89              132             54   \n",
       "2      Algeria             25                0             14   \n",
       "3      Andorra            245              138            312   \n",
       "4       Angola            217               57             45   \n",
       "\n",
       "   total_litres_of_pure_alcohol continent  \n",
       "0                           0.0        AS  \n",
       "1                           4.9        EU  \n",
       "2                           0.7        AF  \n",
       "3                          12.4        EU  \n",
       "4                           5.9        AF  "
      ]
     },
     "execution_count": 87,
     "metadata": {},
     "output_type": "execute_result"
    }
   ],
   "source": [
    "df = pd.read_csv(\"drinks.csv\")\n",
    "df.head()"
   ]
  },
  {
   "cell_type": "code",
   "execution_count": 88,
   "id": "52d27b1d",
   "metadata": {},
   "outputs": [
    {
     "data": {
      "text/plain": [
       "(193,)"
      ]
     },
     "execution_count": 88,
     "metadata": {},
     "output_type": "execute_result"
    }
   ],
   "source": [
    "arr = df[\"wine_servings\"].to_numpy()\n",
    "arr.shape"
   ]
  },
  {
   "cell_type": "markdown",
   "id": "0494ea2a",
   "metadata": {},
   "source": [
    "##### Export data"
   ]
  },
  {
   "cell_type": "code",
   "execution_count": 89,
   "id": "90f9d018",
   "metadata": {},
   "outputs": [],
   "source": [
    "df = pd.DataFrame(arr)\n",
    "df.to_csv(\"wine_servings.csv\")"
   ]
  }
 ],
 "metadata": {
  "kernelspec": {
   "display_name": "Python 3",
   "language": "python",
   "name": "python3"
  },
  "language_info": {
   "codemirror_mode": {
    "name": "ipython",
    "version": 3
   },
   "file_extension": ".py",
   "mimetype": "text/x-python",
   "name": "python",
   "nbconvert_exporter": "python",
   "pygments_lexer": "ipython3",
   "version": "3.8.8"
  }
 },
 "nbformat": 4,
 "nbformat_minor": 5
}
